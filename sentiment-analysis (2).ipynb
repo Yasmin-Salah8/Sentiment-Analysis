{
 "cells": [
  {
   "cell_type": "code",
   "execution_count": 65,
   "metadata": {
    "execution": {
     "iopub.execute_input": "2024-12-19T18:37:23.194462Z",
     "iopub.status.busy": "2024-12-19T18:37:23.193150Z",
     "iopub.status.idle": "2024-12-19T18:37:26.272103Z",
     "shell.execute_reply": "2024-12-19T18:37:26.271176Z",
     "shell.execute_reply.started": "2024-12-19T18:37:23.194413Z"
    }
   },
   "outputs": [],
   "source": [
    "import pandas as pd\n",
    "import numpy as np\n",
    "import re\n",
    "import string\n",
    "from sklearn.model_selection import train_test_split\n",
    "from sklearn.preprocessing import LabelEncoder\n",
    "from nltk.corpus import stopwords\n",
    "from nltk.tokenize import word_tokenize\n",
    "from nltk.stem import WordNetLemmatizer\n",
    "from nltk.stem.porter import PorterStemmer\n",
    "import nltk\n",
    "from sklearn.feature_extraction.text import CountVectorizer"
   ]
  },
  {
   "cell_type": "code",
   "execution_count": 66,
   "metadata": {
    "execution": {
     "iopub.execute_input": "2024-12-19T18:37:43.212853Z",
     "iopub.status.busy": "2024-12-19T18:37:43.212474Z",
     "iopub.status.idle": "2024-12-19T18:37:43.413358Z",
     "shell.execute_reply": "2024-12-19T18:37:43.412448Z",
     "shell.execute_reply.started": "2024-12-19T18:37:43.212820Z"
    }
   },
   "outputs": [
    {
     "name": "stderr",
     "output_type": "stream",
     "text": [
      "[nltk_data] Downloading package punkt to C:\\Users\\IT\n",
      "[nltk_data]     SHOP\\AppData\\Roaming\\nltk_data...\n",
      "[nltk_data]   Package punkt is already up-to-date!\n",
      "[nltk_data] Downloading package wordnet to C:\\Users\\IT\n",
      "[nltk_data]     SHOP\\AppData\\Roaming\\nltk_data...\n",
      "[nltk_data]   Package wordnet is already up-to-date!\n",
      "[nltk_data] Downloading package stopwords to C:\\Users\\IT\n",
      "[nltk_data]     SHOP\\AppData\\Roaming\\nltk_data...\n",
      "[nltk_data]   Package stopwords is already up-to-date!\n"
     ]
    },
    {
     "data": {
      "text/plain": [
       "True"
      ]
     },
     "execution_count": 66,
     "metadata": {},
     "output_type": "execute_result"
    }
   ],
   "source": [
    "nltk.download('punkt')\n",
    "nltk.download('wordnet')\n",
    "nltk.download('stopwords')"
   ]
  },
  {
   "cell_type": "code",
   "execution_count": 67,
   "metadata": {
    "execution": {
     "iopub.execute_input": "2024-12-19T18:37:43.835433Z",
     "iopub.status.busy": "2024-12-19T18:37:43.835065Z",
     "iopub.status.idle": "2024-12-19T18:37:51.416699Z",
     "shell.execute_reply": "2024-12-19T18:37:51.415908Z",
     "shell.execute_reply.started": "2024-12-19T18:37:43.835399Z"
    }
   },
   "outputs": [],
   "source": [
    "df = pd.read_csv(\"Amazon Customer Reviews.csv\")"
   ]
  },
  {
   "cell_type": "code",
   "execution_count": 68,
   "metadata": {
    "execution": {
     "iopub.execute_input": "2024-12-19T18:37:51.418443Z",
     "iopub.status.busy": "2024-12-19T18:37:51.418136Z",
     "iopub.status.idle": "2024-12-19T18:37:51.431789Z",
     "shell.execute_reply": "2024-12-19T18:37:51.430812Z",
     "shell.execute_reply.started": "2024-12-19T18:37:51.418411Z"
    }
   },
   "outputs": [
    {
     "name": "stdout",
     "output_type": "stream",
     "text": [
      "   Id   ProductId          UserId                      ProfileName  \\\n",
      "0   1  B001E4KFG0  A3SGXH7AUHU8GW                       delmartian   \n",
      "1   2  B00813GRG4  A1D87F6ZCVE5NK                           dll pa   \n",
      "2   3  B000LQOCH0   ABXLMWJIXXAIN  Natalia Corres \"Natalia Corres\"   \n",
      "3   4  B000UA0QIQ  A395BORC6FGVXV                             Karl   \n",
      "4   5  B006K2ZZ7K  A1UQRSCLF8GW1T    Michael D. Bigham \"M. Wassir\"   \n",
      "\n",
      "   HelpfulnessNumerator  HelpfulnessDenominator  Score        Time  \\\n",
      "0                     1                       1      5  1303862400   \n",
      "1                     0                       0      1  1346976000   \n",
      "2                     1                       1      4  1219017600   \n",
      "3                     3                       3      2  1307923200   \n",
      "4                     0                       0      5  1350777600   \n",
      "\n",
      "                 Summary                                               Text  \n",
      "0  Good Quality Dog Food  I have bought several of the Vitality canned d...  \n",
      "1      Not as Advertised  Product arrived labeled as Jumbo Salted Peanut...  \n",
      "2  \"Delight\" says it all  This is a confection that has been around a fe...  \n",
      "3         Cough Medicine  If you are looking for the secret ingredient i...  \n",
      "4            Great taffy  Great taffy at a great price.  There was a wid...  \n"
     ]
    }
   ],
   "source": [
    "print(df.head())"
   ]
  },
  {
   "cell_type": "code",
   "execution_count": 69,
   "metadata": {
    "execution": {
     "iopub.execute_input": "2024-12-19T18:37:51.433424Z",
     "iopub.status.busy": "2024-12-19T18:37:51.433060Z",
     "iopub.status.idle": "2024-12-19T18:37:51.617785Z",
     "shell.execute_reply": "2024-12-19T18:37:51.616803Z",
     "shell.execute_reply.started": "2024-12-19T18:37:51.433382Z"
    }
   },
   "outputs": [
    {
     "data": {
      "text/plain": [
       "Id                        False\n",
       "ProductId                 False\n",
       "UserId                    False\n",
       "ProfileName                True\n",
       "HelpfulnessNumerator      False\n",
       "HelpfulnessDenominator    False\n",
       "Score                     False\n",
       "Time                      False\n",
       "Summary                    True\n",
       "Text                      False\n",
       "dtype: bool"
      ]
     },
     "execution_count": 69,
     "metadata": {},
     "output_type": "execute_result"
    }
   ],
   "source": [
    "df.isnull().any()"
   ]
  },
  {
   "cell_type": "code",
   "execution_count": 70,
   "metadata": {
    "execution": {
     "iopub.execute_input": "2024-12-19T18:37:51.620178Z",
     "iopub.status.busy": "2024-12-19T18:37:51.619847Z",
     "iopub.status.idle": "2024-12-19T18:37:51.785346Z",
     "shell.execute_reply": "2024-12-19T18:37:51.784588Z",
     "shell.execute_reply.started": "2024-12-19T18:37:51.620146Z"
    }
   },
   "outputs": [],
   "source": [
    "df.dropna(subset=['ProfileName', 'Summary'], inplace=True)"
   ]
  },
  {
   "cell_type": "code",
   "execution_count": 71,
   "metadata": {},
   "outputs": [
    {
     "data": {
      "text/plain": [
       "0"
      ]
     },
     "execution_count": 71,
     "metadata": {},
     "output_type": "execute_result"
    }
   ],
   "source": [
    "df.duplicated().sum()"
   ]
  },
  {
   "cell_type": "code",
   "execution_count": 72,
   "metadata": {
    "execution": {
     "iopub.execute_input": "2024-12-19T18:37:51.786993Z",
     "iopub.status.busy": "2024-12-19T18:37:51.786554Z",
     "iopub.status.idle": "2024-12-19T18:37:51.794457Z",
     "shell.execute_reply": "2024-12-19T18:37:51.793466Z",
     "shell.execute_reply.started": "2024-12-19T18:37:51.786950Z"
    }
   },
   "outputs": [],
   "source": [
    "del df['Id']\n",
    "del df['ProductId']\n",
    "del df['UserId']\n",
    "del df['ProfileName']\n",
    "del df['HelpfulnessNumerator']\n",
    "del df['HelpfulnessDenominator']\n",
    "del df['Time']\n",
    "del df['Summary']"
   ]
  },
  {
   "cell_type": "code",
   "execution_count": 73,
   "metadata": {
    "execution": {
     "iopub.execute_input": "2024-12-19T18:37:53.060383Z",
     "iopub.status.busy": "2024-12-19T18:37:53.060039Z",
     "iopub.status.idle": "2024-12-19T18:37:53.072693Z",
     "shell.execute_reply": "2024-12-19T18:37:53.071657Z",
     "shell.execute_reply.started": "2024-12-19T18:37:53.060355Z"
    }
   },
   "outputs": [
    {
     "data": {
      "text/html": [
       "<div>\n",
       "<style scoped>\n",
       "    .dataframe tbody tr th:only-of-type {\n",
       "        vertical-align: middle;\n",
       "    }\n",
       "\n",
       "    .dataframe tbody tr th {\n",
       "        vertical-align: top;\n",
       "    }\n",
       "\n",
       "    .dataframe thead th {\n",
       "        text-align: right;\n",
       "    }\n",
       "</style>\n",
       "<table border=\"1\" class=\"dataframe\">\n",
       "  <thead>\n",
       "    <tr style=\"text-align: right;\">\n",
       "      <th></th>\n",
       "      <th>Score</th>\n",
       "      <th>Text</th>\n",
       "    </tr>\n",
       "  </thead>\n",
       "  <tbody>\n",
       "    <tr>\n",
       "      <th>0</th>\n",
       "      <td>5</td>\n",
       "      <td>I have bought several of the Vitality canned d...</td>\n",
       "    </tr>\n",
       "    <tr>\n",
       "      <th>1</th>\n",
       "      <td>1</td>\n",
       "      <td>Product arrived labeled as Jumbo Salted Peanut...</td>\n",
       "    </tr>\n",
       "    <tr>\n",
       "      <th>2</th>\n",
       "      <td>4</td>\n",
       "      <td>This is a confection that has been around a fe...</td>\n",
       "    </tr>\n",
       "    <tr>\n",
       "      <th>3</th>\n",
       "      <td>2</td>\n",
       "      <td>If you are looking for the secret ingredient i...</td>\n",
       "    </tr>\n",
       "    <tr>\n",
       "      <th>4</th>\n",
       "      <td>5</td>\n",
       "      <td>Great taffy at a great price.  There was a wid...</td>\n",
       "    </tr>\n",
       "  </tbody>\n",
       "</table>\n",
       "</div>"
      ],
      "text/plain": [
       "   Score                                               Text\n",
       "0      5  I have bought several of the Vitality canned d...\n",
       "1      1  Product arrived labeled as Jumbo Salted Peanut...\n",
       "2      4  This is a confection that has been around a fe...\n",
       "3      2  If you are looking for the secret ingredient i...\n",
       "4      5  Great taffy at a great price.  There was a wid..."
      ]
     },
     "execution_count": 73,
     "metadata": {},
     "output_type": "execute_result"
    }
   ],
   "source": [
    "df.head()"
   ]
  },
  {
   "cell_type": "code",
   "execution_count": 74,
   "metadata": {
    "execution": {
     "iopub.execute_input": "2024-12-19T18:37:53.500896Z",
     "iopub.status.busy": "2024-12-19T18:37:53.500511Z",
     "iopub.status.idle": "2024-12-19T18:37:54.155582Z",
     "shell.execute_reply": "2024-12-19T18:37:54.154836Z",
     "shell.execute_reply.started": "2024-12-19T18:37:53.500864Z"
    }
   },
   "outputs": [],
   "source": [
    "# df['text'] = df['Text'] + ' ' + df['Summary']\n",
    "# del df['Text']\n",
    "# del df['Summary']"
   ]
  },
  {
   "cell_type": "code",
   "execution_count": 75,
   "metadata": {
    "execution": {
     "iopub.execute_input": "2024-12-19T18:37:55.509201Z",
     "iopub.status.busy": "2024-12-19T18:37:55.508167Z",
     "iopub.status.idle": "2024-12-19T18:37:55.515153Z",
     "shell.execute_reply": "2024-12-19T18:37:55.514332Z",
     "shell.execute_reply.started": "2024-12-19T18:37:55.509159Z"
    }
   },
   "outputs": [],
   "source": [
    "df['Score'] = df['Score'].astype(int)"
   ]
  },
  {
   "cell_type": "code",
   "execution_count": 76,
   "metadata": {
    "execution": {
     "iopub.execute_input": "2024-12-19T18:37:55.998792Z",
     "iopub.status.busy": "2024-12-19T18:37:55.998111Z",
     "iopub.status.idle": "2024-12-19T18:37:56.004527Z",
     "shell.execute_reply": "2024-12-19T18:37:56.003489Z",
     "shell.execute_reply.started": "2024-12-19T18:37:55.998755Z"
    }
   },
   "outputs": [],
   "source": [
    "def clean_text(text):\n",
    "    # Convert to lowercase\n",
    "    text = text.lower()\n",
    "    # Remove URLs\n",
    "    text = re.sub(r'http\\S+|www\\S+|https\\S+', '', text, flags=re.MULTILINE)\n",
    "    # Remove HTML tags\n",
    "    text = re.sub(r'<.*?>', '', text)\n",
    "    # Remove punctuation\n",
    "    text = text.translate(str.maketrans('', '', string.punctuation))\n",
    "    # Remove numbers\n",
    "    text = re.sub(r'\\d+', '', text)\n",
    "    # Remove extra whitespace\n",
    "    text = text.strip()\n",
    "    return text"
   ]
  },
  {
   "cell_type": "code",
   "execution_count": 77,
   "metadata": {
    "execution": {
     "iopub.execute_input": "2024-12-19T18:37:56.981738Z",
     "iopub.status.busy": "2024-12-19T18:37:56.980949Z",
     "iopub.status.idle": "2024-12-19T18:38:09.744174Z",
     "shell.execute_reply": "2024-12-19T18:38:09.743395Z",
     "shell.execute_reply.started": "2024-12-19T18:37:56.981699Z"
    }
   },
   "outputs": [],
   "source": [
    "df['cleaned_text'] = df['Text'].apply(clean_text)"
   ]
  },
  {
   "cell_type": "code",
   "execution_count": 78,
   "metadata": {
    "execution": {
     "iopub.execute_input": "2024-12-19T18:38:09.746284Z",
     "iopub.status.busy": "2024-12-19T18:38:09.745985Z",
     "iopub.status.idle": "2024-12-19T18:38:09.750642Z",
     "shell.execute_reply": "2024-12-19T18:38:09.749685Z",
     "shell.execute_reply.started": "2024-12-19T18:38:09.746253Z"
    }
   },
   "outputs": [],
   "source": [
    "def tokenize_text(text):\n",
    "    # Tokenize using NLTK's word_tokenize\n",
    "    tokens = word_tokenize(text)\n",
    "    return tokens"
   ]
  },
  {
   "cell_type": "code",
   "execution_count": 79,
   "metadata": {
    "execution": {
     "iopub.execute_input": "2024-12-19T18:38:09.752334Z",
     "iopub.status.busy": "2024-12-19T18:38:09.751988Z",
     "iopub.status.idle": "2024-12-19T18:41:15.295901Z",
     "shell.execute_reply": "2024-12-19T18:41:15.294750Z",
     "shell.execute_reply.started": "2024-12-19T18:38:09.752300Z"
    }
   },
   "outputs": [],
   "source": [
    "# Apply tokenization\n",
    "df['tokens'] = df['cleaned_text'].apply(tokenize_text)\n"
   ]
  },
  {
   "cell_type": "code",
   "execution_count": 80,
   "metadata": {
    "execution": {
     "iopub.execute_input": "2024-12-19T18:42:03.117568Z",
     "iopub.status.busy": "2024-12-19T18:42:03.116951Z",
     "iopub.status.idle": "2024-12-19T18:42:03.200301Z",
     "shell.execute_reply": "2024-12-19T18:42:03.199319Z",
     "shell.execute_reply.started": "2024-12-19T18:42:03.117530Z"
    }
   },
   "outputs": [
    {
     "name": "stdout",
     "output_type": "stream",
     "text": [
      "                                        cleaned_text  \\\n",
      "0  i have bought several of the vitality canned d...   \n",
      "1  product arrived labeled as jumbo salted peanut...   \n",
      "2  this is a confection that has been around a fe...   \n",
      "3  if you are looking for the secret ingredient i...   \n",
      "4  great taffy at a great price  there was a wide...   \n",
      "\n",
      "                                              tokens  \n",
      "0  [i, have, bought, several, of, the, vitality, ...  \n",
      "1  [product, arrived, labeled, as, jumbo, salted,...  \n",
      "2  [this, is, a, confection, that, has, been, aro...  \n",
      "3  [if, you, are, looking, for, the, secret, ingr...  \n",
      "4  [great, taffy, at, a, great, price, there, was...  \n"
     ]
    }
   ],
   "source": [
    "# Display a sample of tokenized data\n",
    "print(df[['cleaned_text', 'tokens']].head())"
   ]
  },
  {
   "cell_type": "code",
   "execution_count": 81,
   "metadata": {
    "execution": {
     "iopub.execute_input": "2024-12-19T18:42:03.933064Z",
     "iopub.status.busy": "2024-12-19T18:42:03.932712Z",
     "iopub.status.idle": "2024-12-19T18:42:11.750510Z",
     "shell.execute_reply": "2024-12-19T18:42:11.749668Z",
     "shell.execute_reply.started": "2024-12-19T18:42:03.933034Z"
    }
   },
   "outputs": [],
   "source": [
    "from nltk.corpus import stopwords\n",
    "\n",
    "stop_words = set(stopwords.words('english'))\n",
    "\n",
    "def remove_stopwords(tokens):\n",
    "    return [word for word in tokens if word not in stop_words]\n",
    "\n",
    "df['tokens_no_stopwords'] = df['tokens'].apply(remove_stopwords)"
   ]
  },
  {
   "cell_type": "code",
   "execution_count": 82,
   "metadata": {
    "execution": {
     "iopub.execute_input": "2024-12-19T18:42:11.753538Z",
     "iopub.status.busy": "2024-12-19T18:42:11.752421Z",
     "iopub.status.idle": "2024-12-19T18:50:03.995368Z",
     "shell.execute_reply": "2024-12-19T18:50:03.994598Z",
     "shell.execute_reply.started": "2024-12-19T18:42:11.753485Z"
    }
   },
   "outputs": [],
   "source": [
    "stemmer = PorterStemmer()\n",
    "\n",
    "def stem_tokens(tokens):\n",
    "    return [stemmer.stem(word) for word in tokens]\n",
    "\n",
    "df['stemmed_tokens'] = df['tokens_no_stopwords'].apply(stem_tokens)"
   ]
  },
  {
   "cell_type": "code",
   "execution_count": 83,
   "metadata": {},
   "outputs": [
    {
     "name": "stderr",
     "output_type": "stream",
     "text": [
      "[nltk_data] Downloading package vader_lexicon to C:\\Users\\IT\n",
      "[nltk_data]     SHOP\\AppData\\Roaming\\nltk_data...\n",
      "[nltk_data]   Package vader_lexicon is already up-to-date!\n"
     ]
    },
    {
     "data": {
      "text/plain": [
       "True"
      ]
     },
     "execution_count": 83,
     "metadata": {},
     "output_type": "execute_result"
    }
   ],
   "source": [
    "nltk.download('vader_lexicon')"
   ]
  },
  {
   "cell_type": "code",
   "execution_count": 84,
   "metadata": {},
   "outputs": [],
   "source": [
    "from nltk.sentiment import SentimentIntensityAnalyzer\n",
    "\n",
    "# Initialize the VADER Sentiment Analyzer\n",
    "sia = SentimentIntensityAnalyzer()"
   ]
  },
  {
   "cell_type": "code",
   "execution_count": 85,
   "metadata": {},
   "outputs": [],
   "source": [
    "# Apply sentiment analysis and add as a new column\n",
    "df[\"Polarity_score\"] = df[\"cleaned_text\"].apply(lambda x: sia.polarity_scores(x)['compound'])"
   ]
  },
  {
   "cell_type": "code",
   "execution_count": 86,
   "metadata": {},
   "outputs": [],
   "source": [
    "# Optionally, classify the sentiment based on score\n",
    "df[\"sentiment_label\"] = df[\"Polarity_score\"].apply(\n",
    "    lambda x: \"Positive\" if x > 0 else \"Negative\" if x < 0 else \"Neutral\"\n",
    ")"
   ]
  },
  {
   "cell_type": "code",
   "execution_count": 87,
   "metadata": {},
   "outputs": [
    {
     "name": "stdout",
     "output_type": "stream",
     "text": [
      "        Score  Polarity_score sentiment_label\n",
      "0           5          0.9441        Positive\n",
      "1           1         -0.5664        Negative\n",
      "2           4          0.8265        Positive\n",
      "3           2          0.4404        Positive\n",
      "4           5          0.9468        Positive\n",
      "...       ...             ...             ...\n",
      "568449      5          0.8589        Positive\n",
      "568450      2         -0.7812        Negative\n",
      "568451      5          0.4352        Positive\n",
      "568452      5          0.9678        Positive\n",
      "568453      5          0.4754        Positive\n",
      "\n",
      "[568401 rows x 3 columns]\n"
     ]
    }
   ],
   "source": [
    "print(df[['Score', 'Polarity_score', 'sentiment_label']])"
   ]
  },
  {
   "cell_type": "markdown",
   "metadata": {},
   "source": [
    "# comparison between the generated sentiment labels and the original ones"
   ]
  },
  {
   "cell_type": "code",
   "execution_count": 88,
   "metadata": {},
   "outputs": [],
   "source": [
    "def categorize_rating(star):\n",
    "    if star >= 4:\n",
    "        return 'Positive'\n",
    "    elif star == 3:\n",
    "        return 'Neutral'\n",
    "    else:\n",
    "        return 'Negative'\n",
    "\n",
    "df['original_sentiment'] = df['Score'].apply(categorize_rating)"
   ]
  },
  {
   "cell_type": "code",
   "execution_count": 89,
   "metadata": {},
   "outputs": [
    {
     "name": "stdout",
     "output_type": "stream",
     "text": [
      "        Score original_sentiment sentiment_label\n",
      "0           5           Positive        Positive\n",
      "1           1           Negative        Negative\n",
      "2           4           Positive        Positive\n",
      "3           2           Negative        Positive\n",
      "4           5           Positive        Positive\n",
      "...       ...                ...             ...\n",
      "568449      5           Positive        Positive\n",
      "568450      2           Negative        Negative\n",
      "568451      5           Positive        Positive\n",
      "568452      5           Positive        Positive\n",
      "568453      5           Positive        Positive\n",
      "\n",
      "[568401 rows x 3 columns]\n"
     ]
    }
   ],
   "source": [
    "print(df[['Score','original_sentiment', 'sentiment_label']])"
   ]
  },
  {
   "cell_type": "code",
   "execution_count": 90,
   "metadata": {},
   "outputs": [],
   "source": [
    "df['Mismatch'] = df['original_sentiment'] != df['sentiment_label']"
   ]
  },
  {
   "cell_type": "code",
   "execution_count": 91,
   "metadata": {},
   "outputs": [
    {
     "name": "stdout",
     "output_type": "stream",
     "text": [
      "        Mismatch\n",
      "0          False\n",
      "1          False\n",
      "2          False\n",
      "3           True\n",
      "4          False\n",
      "...          ...\n",
      "568449     False\n",
      "568450     False\n",
      "568451     False\n",
      "568452     False\n",
      "568453     False\n",
      "\n",
      "[568401 rows x 1 columns]\n"
     ]
    }
   ],
   "source": [
    "print(df[['Mismatch']])"
   ]
  },
  {
   "cell_type": "code",
   "execution_count": 92,
   "metadata": {},
   "outputs": [],
   "source": [
    "comparison = df['Mismatch'].value_counts()"
   ]
  },
  {
   "cell_type": "code",
   "execution_count": 93,
   "metadata": {},
   "outputs": [
    {
     "data": {
      "image/png": "[encoded data removed]",
      "text/plain": [
       "<Figure size 600x400 with 1 Axes>"
      ]
     },
     "metadata": {},
     "output_type": "display_data"
    }
   ],
   "source": [
    "import matplotlib.pyplot as plt\n",
    "\n",
    "plt.figure(figsize=(6, 4))  \n",
    "comparison.plot(kind='bar')  \n",
    "\n",
    "plt.title('Comparison of original and generated labels', fontsize=16)\n",
    "plt.xlabel('Comparison', fontsize=14)\n",
    "plt.ylabel('Count', fontsize=14)\n",
    "\n",
    "plt.xticks(rotation=0, fontsize=12)\n",
    "plt.yticks(fontsize=12)\n",
    "\n",
    "plt.show()"
   ]
  },
  {
   "cell_type": "code",
   "execution_count": 94,
   "metadata": {},
   "outputs": [
    {
     "name": "stdout",
     "output_type": "stream",
     "text": [
      "Number of False values: 114502\n"
     ]
    }
   ],
   "source": [
    "# Count the number of False values in 'Sentiment_Error' column\n",
    "false_count = (df['Mismatch'] == True).sum()\n",
    "\n",
    "print(f'Number of False values: {false_count}')"
   ]
  },
  {
   "cell_type": "code",
   "execution_count": 95,
   "metadata": {},
   "outputs": [
    {
     "name": "stdout",
     "output_type": "stream",
     "text": [
      "Accuracy: 79.86%\n"
     ]
    }
   ],
   "source": [
    "# Calculate accuracy based on the number of False values (correct sentiment labels)\n",
    "accuracy = (df['Mismatch'] == False).mean()\n",
    "\n",
    "# Print the accuracy\n",
    "print(f'Accuracy: {accuracy * 100:.2f}%')"
   ]
  },
  {
   "cell_type": "markdown",
   "metadata": {},
   "source": [
    "# comparison between the generated stars and the original ones"
   ]
  },
  {
   "cell_type": "code",
   "execution_count": 96,
   "metadata": {},
   "outputs": [],
   "source": [
    "def polarity_to_label(polarity):\n",
    "    if polarity > 0:\n",
    "        return 5 # Positive\n",
    "    elif polarity < 0:\n",
    "        return 1  # Negative\n",
    "    else:\n",
    "        return 3  # Neutral\n",
    "\n",
    "\n",
    "df['generated_Score'] = df['Polarity_score'].apply(polarity_to_label)"
   ]
  },
  {
   "cell_type": "code",
   "execution_count": 97,
   "metadata": {},
   "outputs": [],
   "source": [
    "def score_to_label(score):\n",
    "    if score <= 2:\n",
    "        return 1  # Negative\n",
    "    elif score == 3:\n",
    "        return 3 # Neutral\n",
    "    else:\n",
    "        return 5 # Positive\n",
    "\n",
    "df['original_Score'] = df['Score'].apply(score_to_label)"
   ]
  },
  {
   "cell_type": "code",
   "execution_count": 98,
   "metadata": {},
   "outputs": [
    {
     "data": {
      "text/plain": [
       "Index(['Score', 'Text', 'cleaned_text', 'tokens', 'tokens_no_stopwords',\n",
       "       'stemmed_tokens', 'Polarity_score', 'sentiment_label',\n",
       "       'original_sentiment', 'Mismatch', 'generated_Score', 'original_Score'],\n",
       "      dtype='object')"
      ]
     },
     "execution_count": 98,
     "metadata": {},
     "output_type": "execute_result"
    }
   ],
   "source": [
    "df.columns"
   ]
  },
  {
   "cell_type": "code",
   "execution_count": 99,
   "metadata": {
    "scrolled": true
   },
   "outputs": [
    {
     "name": "stdout",
     "output_type": "stream",
     "text": [
      "        original_Score original_sentiment sentiment_label  generated_Score\n",
      "0                    5           Positive        Positive                5\n",
      "1                    1           Negative        Negative                1\n",
      "2                    5           Positive        Positive                5\n",
      "3                    1           Negative        Positive                5\n",
      "4                    5           Positive        Positive                5\n",
      "...                ...                ...             ...              ...\n",
      "568449               5           Positive        Positive                5\n",
      "568450               1           Negative        Negative                1\n",
      "568451               5           Positive        Positive                5\n",
      "568452               5           Positive        Positive                5\n",
      "568453               5           Positive        Positive                5\n",
      "\n",
      "[568401 rows x 4 columns]\n"
     ]
    }
   ],
   "source": [
    "print(df[['original_Score', 'original_sentiment', 'sentiment_label', 'generated_Score']])"
   ]
  },
  {
   "cell_type": "code",
   "execution_count": 100,
   "metadata": {},
   "outputs": [
    {
     "data": {
      "text/plain": [
       "original_Score\n",
       "5    443756\n",
       "1     82007\n",
       "3     42638\n",
       "Name: count, dtype: int64"
      ]
     },
     "execution_count": 100,
     "metadata": {},
     "output_type": "execute_result"
    }
   ],
   "source": [
    "df['original_Score'].value_counts()"
   ]
  },
  {
   "cell_type": "code",
   "execution_count": 101,
   "metadata": {},
   "outputs": [],
   "source": [
    "original_score = df['original_Score'].value_counts()"
   ]
  },
  {
   "cell_type": "code",
   "execution_count": 102,
   "metadata": {},
   "outputs": [
    {
     "data": {
      "image/png": "[encoded data removed]",
      "text/plain": [
       "<Figure size 600x400 with 1 Axes>"
      ]
     },
     "metadata": {},
     "output_type": "display_data"
    }
   ],
   "source": [
    "plt.figure(figsize=(6, 4))  \n",
    "original_score.plot(kind='bar')  \n",
    "\n",
    "plt.title('original Scores counts', fontsize=16)\n",
    "plt.xlabel('Comparison', fontsize=14)\n",
    "plt.ylabel('Count', fontsize=14)\n",
    "\n",
    "plt.xticks(rotation=0, fontsize=12)\n",
    "plt.yticks(fontsize=12)\n",
    "\n",
    "plt.show()"
   ]
  },
  {
   "cell_type": "code",
   "execution_count": 103,
   "metadata": {},
   "outputs": [
    {
     "data": {
      "text/plain": [
       "generated_Score\n",
       "5    497671\n",
       "1     63108\n",
       "3      7622\n",
       "Name: count, dtype: int64"
      ]
     },
     "execution_count": 103,
     "metadata": {},
     "output_type": "execute_result"
    }
   ],
   "source": [
    "df['generated_Score'].value_counts()"
   ]
  },
  {
   "cell_type": "code",
   "execution_count": 104,
   "metadata": {},
   "outputs": [],
   "source": [
    "generated_score = df['generated_Score'].value_counts()"
   ]
  },
  {
   "cell_type": "code",
   "execution_count": 105,
   "metadata": {},
   "outputs": [
    {
     "data": {
      "image/png": "[encoded data removed]",
      "text/plain": [
       "<Figure size 600x400 with 1 Axes>"
      ]
     },
     "metadata": {},
     "output_type": "display_data"
    }
   ],
   "source": [
    "plt.figure(figsize=(6, 4))  \n",
    "original_score.plot(kind='bar')  \n",
    "\n",
    "plt.title('generated Scores counts', fontsize=16)\n",
    "plt.xlabel('Comparison', fontsize=14)\n",
    "plt.ylabel('Count', fontsize=14)\n",
    "\n",
    "plt.xticks(rotation=0, fontsize=12)\n",
    "plt.yticks(fontsize=12)\n",
    "\n",
    "plt.show()"
   ]
  },
  {
   "cell_type": "code",
   "execution_count": 106,
   "metadata": {},
   "outputs": [
    {
     "name": "stdout",
     "output_type": "stream",
     "text": [
      "Accuracy: 79.86%\n"
     ]
    }
   ],
   "source": [
    "# Calculate the accuracy of the generated stars compared to the original stars\n",
    "correct_predictions = (df['original_Score'] == df['generated_Score']).sum()\n",
    "total_predictions = len(df)\n",
    "\n",
    "accuracy = correct_predictions / total_predictions * 100\n",
    "\n",
    "# Display the results\n",
    "print(f\"Accuracy: {accuracy:.2f}%\")"
   ]
  },
  {
   "cell_type": "code",
   "execution_count": null,
   "metadata": {},
   "outputs": [],
   "source": []
  },
  {
   "cell_type": "code",
   "execution_count": 107,
   "metadata": {},
   "outputs": [],
   "source": [
    "from sklearn.feature_extraction.text import TfidfVectorizer\n",
    "from sklearn.linear_model import LogisticRegression\n",
    "from sklearn.model_selection import train_test_split"
   ]
  },
  {
   "cell_type": "code",
   "execution_count": 108,
   "metadata": {},
   "outputs": [],
   "source": [
    "X_train, X_test, y_train, y_test = train_test_split(df['cleaned_text'], df['generated_Score'], test_size=0.2, random_state=42)"
   ]
  },
  {
   "cell_type": "code",
   "execution_count": 109,
   "metadata": {},
   "outputs": [],
   "source": [
    "tfidf = TfidfVectorizer(max_features=5000)\n",
    "\n",
    "X_train_tfidf = tfidf.fit_transform(X_train)\n",
    "X_test_tfidf = tfidf.transform(X_test)"
   ]
  },
  {
   "cell_type": "code",
   "execution_count": 110,
   "metadata": {
    "scrolled": true
   },
   "outputs": [
    {
     "data": {
      "text/html": [
       "<style>#sk-container-id-2 {\n",
       "  /* Definition of color scheme common for light and dark mode */\n",
       "  --sklearn-color-text: black;\n",
       "  --sklearn-color-line: gray;\n",
       "  /* Definition of color scheme for unfitted estimators */\n",
       "  --sklearn-color-unfitted-level-0: #fff5e6;\n",
       "  --sklearn-color-unfitted-level-1: #f6e4d2;\n",
       "  --sklearn-color-unfitted-level-2: #ffe0b3;\n",
       "  --sklearn-color-unfitted-level-3: chocolate;\n",
       "  /* Definition of color scheme for fitted estimators */\n",
       "  --sklearn-color-fitted-level-0: #f0f8ff;\n",
       "  --sklearn-color-fitted-level-1: #d4ebff;\n",
       "  --sklearn-color-fitted-level-2: #b3dbfd;\n",
       "  --sklearn-color-fitted-level-3: cornflowerblue;\n",
       "\n",
       "  /* Specific color for light theme */\n",
       "  --sklearn-color-text-on-default-background: var(--sg-text-color, var(--theme-code-foreground, var(--jp-content-font-color1, black)));\n",
       "  --sklearn-color-background: var(--sg-background-color, var(--theme-background, var(--jp-layout-color0, white)));\n",
       "  --sklearn-color-border-box: var(--sg-text-color, var(--theme-code-foreground, var(--jp-content-font-color1, black)));\n",
       "  --sklearn-color-icon: #696969;\n",
       "\n",
       "  @media (prefers-color-scheme: dark) {\n",
       "    /* Redefinition of color scheme for dark theme */\n",
       "    --sklearn-color-text-on-default-background: var(--sg-text-color, var(--theme-code-foreground, var(--jp-content-font-color1, white)));\n",
       "    --sklearn-color-background: var(--sg-background-color, var(--theme-background, var(--jp-layout-color0, #111)));\n",
       "    --sklearn-color-border-box: var(--sg-text-color, var(--theme-code-foreground, var(--jp-content-font-color1, white)));\n",
       "    --sklearn-color-icon: #878787;\n",
       "  }\n",
       "}\n",
       "\n",
       "#sk-container-id-2 {\n",
       "  color: var(--sklearn-color-text);\n",
       "}\n",
       "\n",
       "#sk-container-id-2 pre {\n",
       "  padding: 0;\n",
       "}\n",
       "\n",
       "#sk-container-id-2 input.sk-hidden--visually {\n",
       "  border: 0;\n",
       "  clip: rect(1px 1px 1px 1px);\n",
       "  clip: rect(1px, 1px, 1px, 1px);\n",
       "  height: 1px;\n",
       "  margin: -1px;\n",
       "  overflow: hidden;\n",
       "  padding: 0;\n",
       "  position: absolute;\n",
       "  width: 1px;\n",
       "}\n",
       "\n",
       "#sk-container-id-2 div.sk-dashed-wrapped {\n",
       "  border: 1px dashed var(--sklearn-color-line);\n",
       "  margin: 0 0.4em 0.5em 0.4em;\n",
       "  box-sizing: border-box;\n",
       "  padding-bottom: 0.4em;\n",
       "  background-color: var(--sklearn-color-background);\n",
       "}\n",
       "\n",
       "#sk-container-id-2 div.sk-container {\n",
       "  /* jupyter's `normalize.less` sets `[hidden] { display: none; }`\n",
       "     but bootstrap.min.css set `[hidden] { display: none !important; }`\n",
       "     so we also need the `!important` here to be able to override the\n",
       "     default hidden behavior on the sphinx rendered scikit-learn.org.\n",
       "     See: https://github.com/scikit-learn/scikit-learn/issues/21755 */\n",
       "  display: inline-block !important;\n",
       "  position: relative;\n",
       "}\n",
       "\n",
       "#sk-container-id-2 div.sk-text-repr-fallback {\n",
       "  display: none;\n",
       "}\n",
       "\n",
       "div.sk-parallel-item,\n",
       "div.sk-serial,\n",
       "div.sk-item {\n",
       "  /* draw centered vertical line to link estimators */\n",
       "  background-image: linear-gradient(var(--sklearn-color-text-on-default-background), var(--sklearn-color-text-on-default-background));\n",
       "  background-size: 2px 100%;\n",
       "  background-repeat: no-repeat;\n",
       "  background-position: center center;\n",
       "}\n",
       "\n",
       "/* Parallel-specific style estimator block */\n",
       "\n",
       "#sk-container-id-2 div.sk-parallel-item::after {\n",
       "  content: \"\";\n",
       "  width: 100%;\n",
       "  border-bottom: 2px solid var(--sklearn-color-text-on-default-background);\n",
       "  flex-grow: 1;\n",
       "}\n",
       "\n",
       "#sk-container-id-2 div.sk-parallel {\n",
       "  display: flex;\n",
       "  align-items: stretch;\n",
       "  justify-content: center;\n",
       "  background-color: var(--sklearn-color-background);\n",
       "  position: relative;\n",
       "}\n",
       "\n",
       "#sk-container-id-2 div.sk-parallel-item {\n",
       "  display: flex;\n",
       "  flex-direction: column;\n",
       "}\n",
       "\n",
       "#sk-container-id-2 div.sk-parallel-item:first-child::after {\n",
       "  align-self: flex-end;\n",
       "  width: 50%;\n",
       "}\n",
       "\n",
       "#sk-container-id-2 div.sk-parallel-item:last-child::after {\n",
       "  align-self: flex-start;\n",
       "  width: 50%;\n",
       "}\n",
       "\n",
       "#sk-container-id-2 div.sk-parallel-item:only-child::after {\n",
       "  width: 0;\n",
       "}\n",
       "\n",
       "/* Serial-specific style estimator block */\n",
       "\n",
       "#sk-container-id-2 div.sk-serial {\n",
       "  display: flex;\n",
       "  flex-direction: column;\n",
       "  align-items: center;\n",
       "  background-color: var(--sklearn-color-background);\n",
       "  padding-right: 1em;\n",
       "  padding-left: 1em;\n",
       "}\n",
       "\n",
       "\n",
       "/* Toggleable style: style used for estimator/Pipeline/ColumnTransformer box that is\n",
       "clickable and can be expanded/collapsed.\n",
       "- Pipeline and ColumnTransformer use this feature and define the default style\n",
       "- Estimators will overwrite some part of the style using the `sk-estimator` class\n",
       "*/\n",
       "\n",
       "/* Pipeline and ColumnTransformer style (default) */\n",
       "\n",
       "#sk-container-id-2 div.sk-toggleable {\n",
       "  /* Default theme specific background. It is overwritten whether we have a\n",
       "  specific estimator or a Pipeline/ColumnTransformer */\n",
       "  background-color: var(--sklearn-color-background);\n",
       "}\n",
       "\n",
       "/* Toggleable label */\n",
       "#sk-container-id-2 label.sk-toggleable__label {\n",
       "  cursor: pointer;\n",
       "  display: block;\n",
       "  width: 100%;\n",
       "  margin-bottom: 0;\n",
       "  padding: 0.5em;\n",
       "  box-sizing: border-box;\n",
       "  text-align: center;\n",
       "}\n",
       "\n",
       "#sk-container-id-2 label.sk-toggleable__label-arrow:before {\n",
       "  /* Arrow on the left of the label */\n",
       "  content: \"▸\";\n",
       "  float: left;\n",
       "  margin-right: 0.25em;\n",
       "  color: var(--sklearn-color-icon);\n",
       "}\n",
       "\n",
       "#sk-container-id-2 label.sk-toggleable__label-arrow:hover:before {\n",
       "  color: var(--sklearn-color-text);\n",
       "}\n",
       "\n",
       "/* Toggleable content - dropdown */\n",
       "\n",
       "#sk-container-id-2 div.sk-toggleable__content {\n",
       "  max-height: 0;\n",
       "  max-width: 0;\n",
       "  overflow: hidden;\n",
       "  text-align: left;\n",
       "  /* unfitted */\n",
       "  background-color: var(--sklearn-color-unfitted-level-0);\n",
       "}\n",
       "\n",
       "#sk-container-id-2 div.sk-toggleable__content.fitted {\n",
       "  /* fitted */\n",
       "  background-color: var(--sklearn-color-fitted-level-0);\n",
       "}\n",
       "\n",
       "#sk-container-id-2 div.sk-toggleable__content pre {\n",
       "  margin: 0.2em;\n",
       "  border-radius: 0.25em;\n",
       "  color: var(--sklearn-color-text);\n",
       "  /* unfitted */\n",
       "  background-color: var(--sklearn-color-unfitted-level-0);\n",
       "}\n",
       "\n",
       "#sk-container-id-2 div.sk-toggleable__content.fitted pre {\n",
       "  /* unfitted */\n",
       "  background-color: var(--sklearn-color-fitted-level-0);\n",
       "}\n",
       "\n",
       "#sk-container-id-2 input.sk-toggleable__control:checked~div.sk-toggleable__content {\n",
       "  /* Expand drop-down */\n",
       "  max-height: 200px;\n",
       "  max-width: 100%;\n",
       "  overflow: auto;\n",
       "}\n",
       "\n",
       "#sk-container-id-2 input.sk-toggleable__control:checked~label.sk-toggleable__label-arrow:before {\n",
       "  content: \"▾\";\n",
       "}\n",
       "\n",
       "/* Pipeline/ColumnTransformer-specific style */\n",
       "\n",
       "#sk-container-id-2 div.sk-label input.sk-toggleable__control:checked~label.sk-toggleable__label {\n",
       "  color: var(--sklearn-color-text);\n",
       "  background-color: var(--sklearn-color-unfitted-level-2);\n",
       "}\n",
       "\n",
       "#sk-container-id-2 div.sk-label.fitted input.sk-toggleable__control:checked~label.sk-toggleable__label {\n",
       "  background-color: var(--sklearn-color-fitted-level-2);\n",
       "}\n",
       "\n",
       "/* Estimator-specific style */\n",
       "\n",
       "/* Colorize estimator box */\n",
       "#sk-container-id-2 div.sk-estimator input.sk-toggleable__control:checked~label.sk-toggleable__label {\n",
       "  /* unfitted */\n",
       "  background-color: var(--sklearn-color-unfitted-level-2);\n",
       "}\n",
       "\n",
       "#sk-container-id-2 div.sk-estimator.fitted input.sk-toggleable__control:checked~label.sk-toggleable__label {\n",
       "  /* fitted */\n",
       "  background-color: var(--sklearn-color-fitted-level-2);\n",
       "}\n",
       "\n",
       "#sk-container-id-2 div.sk-label label.sk-toggleable__label,\n",
       "#sk-container-id-2 div.sk-label label {\n",
       "  /* The background is the default theme color */\n",
       "  color: var(--sklearn-color-text-on-default-background);\n",
       "}\n",
       "\n",
       "/* On hover, darken the color of the background */\n",
       "#sk-container-id-2 div.sk-label:hover label.sk-toggleable__label {\n",
       "  color: var(--sklearn-color-text);\n",
       "  background-color: var(--sklearn-color-unfitted-level-2);\n",
       "}\n",
       "\n",
       "/* Label box, darken color on hover, fitted */\n",
       "#sk-container-id-2 div.sk-label.fitted:hover label.sk-toggleable__label.fitted {\n",
       "  color: var(--sklearn-color-text);\n",
       "  background-color: var(--sklearn-color-fitted-level-2);\n",
       "}\n",
       "\n",
       "/* Estimator label */\n",
       "\n",
       "#sk-container-id-2 div.sk-label label {\n",
       "  font-family: monospace;\n",
       "  font-weight: bold;\n",
       "  display: inline-block;\n",
       "  line-height: 1.2em;\n",
       "}\n",
       "\n",
       "#sk-container-id-2 div.sk-label-container {\n",
       "  text-align: center;\n",
       "}\n",
       "\n",
       "/* Estimator-specific */\n",
       "#sk-container-id-2 div.sk-estimator {\n",
       "  font-family: monospace;\n",
       "  border: 1px dotted var(--sklearn-color-border-box);\n",
       "  border-radius: 0.25em;\n",
       "  box-sizing: border-box;\n",
       "  margin-bottom: 0.5em;\n",
       "  /* unfitted */\n",
       "  background-color: var(--sklearn-color-unfitted-level-0);\n",
       "}\n",
       "\n",
       "#sk-container-id-2 div.sk-estimator.fitted {\n",
       "  /* fitted */\n",
       "  background-color: var(--sklearn-color-fitted-level-0);\n",
       "}\n",
       "\n",
       "/* on hover */\n",
       "#sk-container-id-2 div.sk-estimator:hover {\n",
       "  /* unfitted */\n",
       "  background-color: var(--sklearn-color-unfitted-level-2);\n",
       "}\n",
       "\n",
       "#sk-container-id-2 div.sk-estimator.fitted:hover {\n",
       "  /* fitted */\n",
       "  background-color: var(--sklearn-color-fitted-level-2);\n",
       "}\n",
       "\n",
       "/* Specification for estimator info (e.g. \"i\" and \"?\") */\n",
       "\n",
       "/* Common style for \"i\" and \"?\" */\n",
       "\n",
       ".sk-estimator-doc-link,\n",
       "a:link.sk-estimator-doc-link,\n",
       "a:visited.sk-estimator-doc-link {\n",
       "  float: right;\n",
       "  font-size: smaller;\n",
       "  line-height: 1em;\n",
       "  font-family: monospace;\n",
       "  background-color: var(--sklearn-color-background);\n",
       "  border-radius: 1em;\n",
       "  height: 1em;\n",
       "  width: 1em;\n",
       "  text-decoration: none !important;\n",
       "  margin-left: 1ex;\n",
       "  /* unfitted */\n",
       "  border: var(--sklearn-color-unfitted-level-1) 1pt solid;\n",
       "  color: var(--sklearn-color-unfitted-level-1);\n",
       "}\n",
       "\n",
       ".sk-estimator-doc-link.fitted,\n",
       "a:link.sk-estimator-doc-link.fitted,\n",
       "a:visited.sk-estimator-doc-link.fitted {\n",
       "  /* fitted */\n",
       "  border: var(--sklearn-color-fitted-level-1) 1pt solid;\n",
       "  color: var(--sklearn-color-fitted-level-1);\n",
       "}\n",
       "\n",
       "/* On hover */\n",
       "div.sk-estimator:hover .sk-estimator-doc-link:hover,\n",
       ".sk-estimator-doc-link:hover,\n",
       "div.sk-label-container:hover .sk-estimator-doc-link:hover,\n",
       ".sk-estimator-doc-link:hover {\n",
       "  /* unfitted */\n",
       "  background-color: var(--sklearn-color-unfitted-level-3);\n",
       "  color: var(--sklearn-color-background);\n",
       "  text-decoration: none;\n",
       "}\n",
       "\n",
       "div.sk-estimator.fitted:hover .sk-estimator-doc-link.fitted:hover,\n",
       ".sk-estimator-doc-link.fitted:hover,\n",
       "div.sk-label-container:hover .sk-estimator-doc-link.fitted:hover,\n",
       ".sk-estimator-doc-link.fitted:hover {\n",
       "  /* fitted */\n",
       "  background-color: var(--sklearn-color-fitted-level-3);\n",
       "  color: var(--sklearn-color-background);\n",
       "  text-decoration: none;\n",
       "}\n",
       "\n",
       "/* Span, style for the box shown on hovering the info icon */\n",
       ".sk-estimator-doc-link span {\n",
       "  display: none;\n",
       "  z-index: 9999;\n",
       "  position: relative;\n",
       "  font-weight: normal;\n",
       "  right: .2ex;\n",
       "  padding: .5ex;\n",
       "  margin: .5ex;\n",
       "  width: min-content;\n",
       "  min-width: 20ex;\n",
       "  max-width: 50ex;\n",
       "  color: var(--sklearn-color-text);\n",
       "  box-shadow: 2pt 2pt 4pt #999;\n",
       "  /* unfitted */\n",
       "  background: var(--sklearn-color-unfitted-level-0);\n",
       "  border: .5pt solid var(--sklearn-color-unfitted-level-3);\n",
       "}\n",
       "\n",
       ".sk-estimator-doc-link.fitted span {\n",
       "  /* fitted */\n",
       "  background: var(--sklearn-color-fitted-level-0);\n",
       "  border: var(--sklearn-color-fitted-level-3);\n",
       "}\n",
       "\n",
       ".sk-estimator-doc-link:hover span {\n",
       "  display: block;\n",
       "}\n",
       "\n",
       "/* \"?\"-specific style due to the `<a>` HTML tag */\n",
       "\n",
       "#sk-container-id-2 a.estimator_doc_link {\n",
       "  float: right;\n",
       "  font-size: 1rem;\n",
       "  line-height: 1em;\n",
       "  font-family: monospace;\n",
       "  background-color: var(--sklearn-color-background);\n",
       "  border-radius: 1rem;\n",
       "  height: 1rem;\n",
       "  width: 1rem;\n",
       "  text-decoration: none;\n",
       "  /* unfitted */\n",
       "  color: var(--sklearn-color-unfitted-level-1);\n",
       "  border: var(--sklearn-color-unfitted-level-1) 1pt solid;\n",
       "}\n",
       "\n",
       "#sk-container-id-2 a.estimator_doc_link.fitted {\n",
       "  /* fitted */\n",
       "  border: var(--sklearn-color-fitted-level-1) 1pt solid;\n",
       "  color: var(--sklearn-color-fitted-level-1);\n",
       "}\n",
       "\n",
       "/* On hover */\n",
       "#sk-container-id-2 a.estimator_doc_link:hover {\n",
       "  /* unfitted */\n",
       "  background-color: var(--sklearn-color-unfitted-level-3);\n",
       "  color: var(--sklearn-color-background);\n",
       "  text-decoration: none;\n",
       "}\n",
       "\n",
       "#sk-container-id-2 a.estimator_doc_link.fitted:hover {\n",
       "  /* fitted */\n",
       "  background-color: var(--sklearn-color-fitted-level-3);\n",
       "}\n",
       "</style><div id=\"sk-container-id-2\" class=\"sk-top-container\"><div class=\"sk-text-repr-fallback\"><pre>LogisticRegression()</pre><b>In a Jupyter environment, please rerun this cell to show the HTML representation or trust the notebook. <br />On GitHub, the HTML representation is unable to render, please try loading this page with nbviewer.org.</b></div><div class=\"sk-container\" hidden><div class=\"sk-item\"><div class=\"sk-estimator fitted sk-toggleable\"><input class=\"sk-toggleable__control sk-hidden--visually\" id=\"sk-estimator-id-2\" type=\"checkbox\" checked><label for=\"sk-estimator-id-2\" class=\"sk-toggleable__label fitted sk-toggleable__label-arrow fitted\">&nbsp;&nbsp;LogisticRegression<a class=\"sk-estimator-doc-link fitted\" rel=\"noreferrer\" target=\"_blank\" href=\"https://scikit-learn.org/1.5/modules/generated/sklearn.linear_model.LogisticRegression.html\">?<span>Documentation for LogisticRegression</span></a><span class=\"sk-estimator-doc-link fitted\">i<span>Fitted</span></span></label><div class=\"sk-toggleable__content fitted\"><pre>LogisticRegression()</pre></div> </div></div></div></div>"
      ],
      "text/plain": [
       "LogisticRegression()"
      ]
     },
     "execution_count": 110,
     "metadata": {},
     "output_type": "execute_result"
    }
   ],
   "source": [
    "from sklearn.linear_model import LogisticRegression\n",
    "\n",
    "model = LogisticRegression()\n",
    "model.fit(X_train_tfidf, y_train)"
   ]
  },
  {
   "cell_type": "code",
   "execution_count": 111,
   "metadata": {},
   "outputs": [],
   "source": [
    "y_pred = model.predict(X_test_tfidf)"
   ]
  },
  {
   "cell_type": "code",
   "execution_count": 112,
   "metadata": {},
   "outputs": [
    {
     "name": "stdout",
     "output_type": "stream",
     "text": [
      "0.9240594294561096\n"
     ]
    }
   ],
   "source": [
    "from sklearn.metrics import classification_report, accuracy_score, confusion_matrix\n",
    "\n",
    "acc=accuracy_score(y_test,y_pred)\n",
    "print(acc)"
   ]
  },
  {
   "cell_type": "code",
   "execution_count": 113,
   "metadata": {},
   "outputs": [
    {
     "name": "stdout",
     "output_type": "stream",
     "text": [
      "Classification Report:\n",
      "               precision    recall  f1-score   support\n",
      "\n",
      "           1       0.76      0.56      0.64     12800\n",
      "           3       0.89      0.40      0.55      1563\n",
      "           5       0.94      0.98      0.96     99318\n",
      "\n",
      "    accuracy                           0.92    113681\n",
      "   macro avg       0.87      0.64      0.72    113681\n",
      "weighted avg       0.92      0.92      0.92    113681\n",
      "\n"
     ]
    }
   ],
   "source": [
    "from sklearn.metrics import classification_report, accuracy_score, confusion_matrix\n",
    "\n",
    "y_pred = model.predict(X_test_tfidf)\n",
    "\n",
    "print(\"Classification Report:\\n\", classification_report(y_test, y_pred))"
   ]
  },
  {
   "cell_type": "code",
   "execution_count": 114,
   "metadata": {},
   "outputs": [],
   "source": [
    "# # اختر جملة من بيانات الداتا سيت بناءً على إدخال المستخدم\n",
    "# user_input_index = int(input(\"أدخل رقم الجملة (index) الذي تريد تحليله من الداتا سيت: \"))\n",
    "\n",
    "# # التحقق من صحة الإدخال\n",
    "# if user_input_index < 0 or user_input_index >= len(df):\n",
    "#     print(\"رقم الجملة خارج النطاق. الرجاء إدخال رقم صحيح.\")\n",
    "# else:\n",
    "#     # استخراج الجملة الأصلية\n",
    "#     original_text = df.iloc[user_input_index]['cleaned_text']\n",
    "\n",
    "#     # استخراج النجوم الأصلية\n",
    "#     original_score = df.iloc[user_input_index]['Score']\n",
    "\n",
    "#     # استخراج المشاعر الأصلية\n",
    "#     original_sentiment = df.iloc[user_input_index]['original_sentiment']\n",
    "\n",
    "#     # توقع النجوم بناءً على المشاعر المحسوبة\n",
    "#     polarity_score = sia.polarity_scores(original_text)['compound']\n",
    "#     predicted_stars = polarity_to_label(polarity_score)\n",
    "\n",
    "#     # التنبؤ بالمشاعر بناءً على الجملة\n",
    "#     predicted_sentiment = \"Positive\" if polarity_score > 0 else \"Negative\" if polarity_score < 0 else \"Neutral\"\n",
    "\n",
    "#     # عرض النتائج\n",
    "#     print(\"\\nنتائج التحليل:\")\n",
    "#     print(f\"النص: {original_text}\")\n",
    "#     print(f\"النجوم الأصلية: {original_score}\")\n",
    "#     print(f\"المشاعر الأصلية: {original_sentiment}\")\n",
    "#     print(f\"النجوم المتوقعة: {predicted_stars}\")\n",
    "#     print(f\"المشاعر المتوقعة: {predicted_sentiment}\")\n",
    "\n",
    "#     # مقارنة النجوم والمشاعر\n",
    "#     stars_match = \"تطابق\" if original_score == predicted_stars else \"عدم تطابق\"\n",
    "#     sentiment_match = \"تطابق\" if original_sentiment == predicted_sentiment else \"عدم تطابق\"\n",
    "\n",
    "#     print(\"\\nمقارنة النتائج:\")\n",
    "#     print(f\"تطابق النجوم: {stars_match}\")\n",
    "#     print(f\"تطابق المشاعر: {sentiment_match}\")\n",
    "\n",
    "#     # التحقق من التطابق الكلي\n",
    "#     if stars_match == \"تطابق\" and sentiment_match == \"تطابق\":\n",
    "#         print(\"\\nالتوقع يتطابق تمامًا مع البيانات الأصلية.\")\n",
    "#     else:\n",
    "#         print(\"\\nهناك اختلاف بين التوقعات والبيانات الأصلية.\")\n"
   ]
  },
  {
   "cell_type": "code",
   "execution_count": 118,
   "metadata": {},
   "outputs": [
    {
     "data": {
      "text/plain": [
       "0         5\n",
       "1         1\n",
       "2         5\n",
       "3         1\n",
       "4         5\n",
       "         ..\n",
       "568449    5\n",
       "568450    1\n",
       "568451    5\n",
       "568452    5\n",
       "568453    5\n",
       "Name: original_Score, Length: 568401, dtype: int64"
      ]
     },
     "execution_count": 118,
     "metadata": {},
     "output_type": "execute_result"
    }
   ],
   "source": [
    "df['original_Score']"
   ]
  },
  {
   "cell_type": "code",
   "execution_count": 122,
   "metadata": {},
   "outputs": [
    {
     "name": "stdout",
     "output_type": "stream",
     "text": [
      "\n",
      "Analysis Results:\n",
      "Text: this is a confection that has been around a few centuries  it is a light pillowy citrus gelatin with nuts  in this case filberts and it is cut into tiny squares and then liberally coated with powdered sugar  and it is a tiny mouthful of heaven  not too chewy and very flavorful  i highly recommend this yummy treat  if you are familiar with the story of cs lewis the lion the witch and the wardrobe  this is the treat that seduces edmund into selling out his brother and sisters to the witch\n",
      "Original Stars: 4\n",
      "Original Sentiment: Positive\n",
      "Predicted Stars: 5\n",
      "Predicted Sentiment: Positive\n",
      "\n",
      "Comparison Results:\n",
      "Stars Match: Mismatch\n",
      "Sentiment Match: Match\n",
      "\n",
      "There is a discrepancy between the predictions and the original data.\n"
     ]
    }
   ],
   "source": [
    "# Select a sentence from the dataset based on user input\n",
    "user_input_index = int(input(\"Enter the sentence index you want to analyze from the dataset: \"))\n",
    "\n",
    "# Validate the input\n",
    "if user_input_index < 0 or user_input_index >= len(df):\n",
    "    print(\"Index out of range. Please enter a valid index.\")\n",
    "else:\n",
    "    # Extract the original text\n",
    "    original_text = df.iloc[user_input_index]['cleaned_text']\n",
    "\n",
    "    # Extract the original score\n",
    "    original_score = df.iloc[user_input_index]['Score']\n",
    "\n",
    "    # Extract the original sentiment\n",
    "    original_sentiment = df.iloc[user_input_index]['original_sentiment']\n",
    "\n",
    "    # Predict stars based on calculated sentiment\n",
    "    polarity_score = sia.polarity_scores(original_text)['compound']\n",
    "    predicted_stars = polarity_to_label(polarity_score)\n",
    "\n",
    "    # Predict sentiment based on the sentence\n",
    "    predicted_sentiment = \"Positive\" if polarity_score > 0 else \"Negative\" if polarity_score < 0 else \"Neutral\"\n",
    "\n",
    "    # Display the results\n",
    "    print(\"\\nAnalysis Results:\")\n",
    "    print(f\"Text: {original_text}\")\n",
    "    print(f\"Original Stars: {original_score}\")\n",
    "    print(f\"Original Sentiment: {original_sentiment}\")\n",
    "    print(f\"Predicted Stars: {predicted_stars}\")\n",
    "    print(f\"Predicted Sentiment: {predicted_sentiment}\")\n",
    "\n",
    "    # Compare stars and sentiment\n",
    "    stars_match = \"Match\" if original_score == predicted_stars else \"Mismatch\"\n",
    "    sentiment_match = \"Match\" if original_sentiment == predicted_sentiment else \"Mismatch\"\n",
    "\n",
    "    print(\"\\nComparison Results:\")\n",
    "    print(f\"Stars Match: {stars_match}\")\n",
    "    print(f\"Sentiment Match: {sentiment_match}\")\n",
    "\n",
    "    # Check overall match\n",
    "    if stars_match == \"Match\" and sentiment_match == \"Match\":\n",
    "        print(\"\\nThe prediction matches perfectly with the original data.\")\n",
    "    else:\n",
    "        print(\"\\nThere is a discrepancy between the predictions and the original data.\")"
   ]
  },
  {
   "cell_type": "code",
   "execution_count": 116,
   "metadata": {},
   "outputs": [
    {
     "data": {
      "text/html": [
       "<div>\n",
       "<style scoped>\n",
       "    .dataframe tbody tr th:only-of-type {\n",
       "        vertical-align: middle;\n",
       "    }\n",
       "\n",
       "    .dataframe tbody tr th {\n",
       "        vertical-align: top;\n",
       "    }\n",
       "\n",
       "    .dataframe thead th {\n",
       "        text-align: right;\n",
       "    }\n",
       "</style>\n",
       "<table border=\"1\" class=\"dataframe\">\n",
       "  <thead>\n",
       "    <tr style=\"text-align: right;\">\n",
       "      <th></th>\n",
       "      <th>Score</th>\n",
       "      <th>Text</th>\n",
       "      <th>cleaned_text</th>\n",
       "      <th>tokens</th>\n",
       "      <th>tokens_no_stopwords</th>\n",
       "      <th>stemmed_tokens</th>\n",
       "      <th>Polarity_score</th>\n",
       "      <th>sentiment_label</th>\n",
       "      <th>original_sentiment</th>\n",
       "      <th>Mismatch</th>\n",
       "      <th>generated_Score</th>\n",
       "      <th>original_Score</th>\n",
       "    </tr>\n",
       "  </thead>\n",
       "  <tbody>\n",
       "    <tr>\n",
       "      <th>0</th>\n",
       "      <td>5</td>\n",
       "      <td>I have bought several of the Vitality canned d...</td>\n",
       "      <td>i have bought several of the vitality canned d...</td>\n",
       "      <td>[i, have, bought, several, of, the, vitality, ...</td>\n",
       "      <td>[bought, several, vitality, canned, dog, food,...</td>\n",
       "      <td>[bought, sever, vital, can, dog, food, product...</td>\n",
       "      <td>0.9441</td>\n",
       "      <td>Positive</td>\n",
       "      <td>Positive</td>\n",
       "      <td>False</td>\n",
       "      <td>5</td>\n",
       "      <td>5</td>\n",
       "    </tr>\n",
       "    <tr>\n",
       "      <th>1</th>\n",
       "      <td>1</td>\n",
       "      <td>Product arrived labeled as Jumbo Salted Peanut...</td>\n",
       "      <td>product arrived labeled as jumbo salted peanut...</td>\n",
       "      <td>[product, arrived, labeled, as, jumbo, salted,...</td>\n",
       "      <td>[product, arrived, labeled, jumbo, salted, pea...</td>\n",
       "      <td>[product, arriv, label, jumbo, salt, peanutsth...</td>\n",
       "      <td>-0.5664</td>\n",
       "      <td>Negative</td>\n",
       "      <td>Negative</td>\n",
       "      <td>False</td>\n",
       "      <td>1</td>\n",
       "      <td>1</td>\n",
       "    </tr>\n",
       "    <tr>\n",
       "      <th>2</th>\n",
       "      <td>4</td>\n",
       "      <td>This is a confection that has been around a fe...</td>\n",
       "      <td>this is a confection that has been around a fe...</td>\n",
       "      <td>[this, is, a, confection, that, has, been, aro...</td>\n",
       "      <td>[confection, around, centuries, light, pillowy...</td>\n",
       "      <td>[confect, around, centuri, light, pillowi, cit...</td>\n",
       "      <td>0.8265</td>\n",
       "      <td>Positive</td>\n",
       "      <td>Positive</td>\n",
       "      <td>False</td>\n",
       "      <td>5</td>\n",
       "      <td>5</td>\n",
       "    </tr>\n",
       "    <tr>\n",
       "      <th>3</th>\n",
       "      <td>2</td>\n",
       "      <td>If you are looking for the secret ingredient i...</td>\n",
       "      <td>if you are looking for the secret ingredient i...</td>\n",
       "      <td>[if, you, are, looking, for, the, secret, ingr...</td>\n",
       "      <td>[looking, secret, ingredient, robitussin, beli...</td>\n",
       "      <td>[look, secret, ingredi, robitussin, believ, fo...</td>\n",
       "      <td>0.4404</td>\n",
       "      <td>Positive</td>\n",
       "      <td>Negative</td>\n",
       "      <td>True</td>\n",
       "      <td>5</td>\n",
       "      <td>1</td>\n",
       "    </tr>\n",
       "    <tr>\n",
       "      <th>4</th>\n",
       "      <td>5</td>\n",
       "      <td>Great taffy at a great price.  There was a wid...</td>\n",
       "      <td>great taffy at a great price  there was a wide...</td>\n",
       "      <td>[great, taffy, at, a, great, price, there, was...</td>\n",
       "      <td>[great, taffy, great, price, wide, assortment,...</td>\n",
       "      <td>[great, taffi, great, price, wide, assort, yum...</td>\n",
       "      <td>0.9468</td>\n",
       "      <td>Positive</td>\n",
       "      <td>Positive</td>\n",
       "      <td>False</td>\n",
       "      <td>5</td>\n",
       "      <td>5</td>\n",
       "    </tr>\n",
       "  </tbody>\n",
       "</table>\n",
       "</div>"
      ],
      "text/plain": [
       "   Score                                               Text  \\\n",
       "0      5  I have bought several of the Vitality canned d...   \n",
       "1      1  Product arrived labeled as Jumbo Salted Peanut...   \n",
       "2      4  This is a confection that has been around a fe...   \n",
       "3      2  If you are looking for the secret ingredient i...   \n",
       "4      5  Great taffy at a great price.  There was a wid...   \n",
       "\n",
       "                                        cleaned_text  \\\n",
       "0  i have bought several of the vitality canned d...   \n",
       "1  product arrived labeled as jumbo salted peanut...   \n",
       "2  this is a confection that has been around a fe...   \n",
       "3  if you are looking for the secret ingredient i...   \n",
       "4  great taffy at a great price  there was a wide...   \n",
       "\n",
       "                                              tokens  \\\n",
       "0  [i, have, bought, several, of, the, vitality, ...   \n",
       "1  [product, arrived, labeled, as, jumbo, salted,...   \n",
       "2  [this, is, a, confection, that, has, been, aro...   \n",
       "3  [if, you, are, looking, for, the, secret, ingr...   \n",
       "4  [great, taffy, at, a, great, price, there, was...   \n",
       "\n",
       "                                 tokens_no_stopwords  \\\n",
       "0  [bought, several, vitality, canned, dog, food,...   \n",
       "1  [product, arrived, labeled, jumbo, salted, pea...   \n",
       "2  [confection, around, centuries, light, pillowy...   \n",
       "3  [looking, secret, ingredient, robitussin, beli...   \n",
       "4  [great, taffy, great, price, wide, assortment,...   \n",
       "\n",
       "                                      stemmed_tokens  Polarity_score  \\\n",
       "0  [bought, sever, vital, can, dog, food, product...          0.9441   \n",
       "1  [product, arriv, label, jumbo, salt, peanutsth...         -0.5664   \n",
       "2  [confect, around, centuri, light, pillowi, cit...          0.8265   \n",
       "3  [look, secret, ingredi, robitussin, believ, fo...          0.4404   \n",
       "4  [great, taffi, great, price, wide, assort, yum...          0.9468   \n",
       "\n",
       "  sentiment_label original_sentiment  Mismatch  generated_Score  \\\n",
       "0        Positive           Positive     False                5   \n",
       "1        Negative           Negative     False                1   \n",
       "2        Positive           Positive     False                5   \n",
       "3        Positive           Negative      True                5   \n",
       "4        Positive           Positive     False                5   \n",
       "\n",
       "   original_Score  \n",
       "0               5  \n",
       "1               1  \n",
       "2               5  \n",
       "3               1  \n",
       "4               5  "
      ]
     },
     "execution_count": 116,
     "metadata": {},
     "output_type": "execute_result"
    }
   ],
   "source": [
    "df.head()"
   ]
  },
  {
   "cell_type": "code",
   "execution_count": 123,
   "metadata": {},
   "outputs": [
    {
     "name": "stdout",
     "output_type": "stream",
     "text": [
      "\n",
      "Analysis Results:\n",
      "Text: this is a confection that has been around a few centuries  it is a light pillowy citrus gelatin with nuts  in this case filberts and it is cut into tiny squares and then liberally coated with powdered sugar  and it is a tiny mouthful of heaven  not too chewy and very flavorful  i highly recommend this yummy treat  if you are familiar with the story of cs lewis the lion the witch and the wardrobe  this is the treat that seduces edmund into selling out his brother and sisters to the witch\n",
      "Original Stars: 5\n",
      "Original Sentiment: Positive\n",
      "Predicted Stars: 5\n",
      "Predicted Sentiment: Positive\n",
      "\n",
      "Comparison Results:\n",
      "Stars Match: Match\n",
      "Sentiment Match: Match\n",
      "\n",
      "The prediction matches perfectly with the original data.\n"
     ]
    }
   ],
   "source": [
    "# Select a sentence from the dataset based on user input\n",
    "user_input_index = int(input(\"Enter the sentence index you want to analyze from the dataset: \"))\n",
    "\n",
    "# Validate the input\n",
    "if user_input_index < 0 or user_input_index >= len(df):\n",
    "    print(\"Index out of range. Please enter a valid index.\")\n",
    "else:\n",
    "    # Extract the original text\n",
    "    original_text = df.iloc[user_input_index]['cleaned_text']\n",
    "\n",
    "    # Extract the original score from original_Score column\n",
    "    original_score = df.iloc[user_input_index]['original_Score']\n",
    "\n",
    "    # Extract the original sentiment\n",
    "    original_sentiment = df.iloc[user_input_index]['original_sentiment']\n",
    "\n",
    "    # Predict stars based on calculated sentiment\n",
    "    polarity_score = sia.polarity_scores(original_text)['compound']\n",
    "    predicted_stars = polarity_to_label(polarity_score)\n",
    "\n",
    "    # Predict sentiment based on the sentence\n",
    "    predicted_sentiment = \"Positive\" if polarity_score > 0 else \"Negative\" if polarity_score < 0 else \"Neutral\"\n",
    "\n",
    "    # Display the results\n",
    "    print(\"\\nAnalysis Results:\")\n",
    "    print(f\"Text: {original_text}\")\n",
    "    print(f\"Original Stars: {original_score}\")\n",
    "    print(f\"Original Sentiment: {original_sentiment}\")\n",
    "    print(f\"Predicted Stars: {predicted_stars}\")\n",
    "    print(f\"Predicted Sentiment: {predicted_sentiment}\")\n",
    "\n",
    "    # Compare stars and sentiment\n",
    "    stars_match = \"Match\" if original_score == predicted_stars else \"Mismatch\"\n",
    "    sentiment_match = \"Match\" if original_sentiment == predicted_sentiment else \"Mismatch\"\n",
    "\n",
    "    print(\"\\nComparison Results:\")\n",
    "    print(f\"Stars Match: {stars_match}\")\n",
    "    print(f\"Sentiment Match: {sentiment_match}\")\n",
    "\n",
    "    # Check overall match\n",
    "    if stars_match == \"Match\" and sentiment_match == \"Match\":\n",
    "        print(\"\\nThe prediction matches perfectly with the original data.\")\n",
    "    else:\n",
    "        print(\"\\nThere is a discrepancy between the predictions and the original data.\")\n"
   ]
  },
  {
   "cell_type": "code",
   "execution_count": null,
   "metadata": {},
   "outputs": [],
   "source": []
  },
  {
   "cell_type": "code",
   "execution_count": null,
   "metadata": {},
   "outputs": [],
   "source": []
  }
 ],
 "metadata": {
  "kaggle": {
   "accelerator": "nvidiaTeslaT4",
   "dataSources": [
    {
     "datasetId": 6282750,
     "sourceId": 10172503,
     "sourceType": "datasetVersion"
    }
   ],
   "dockerImageVersionId": 30804,
   "isGpuEnabled": true,
   "isInternetEnabled": true,
   "language": "python",
   "sourceType": "notebook"
  },
  "kernelspec": {
   "display_name": "Python 3",
   "language": "python",
   "name": "python3"
  },
  "language_info": {
   "codemirror_mode": {
    "name": "ipython",
    "version": 3
   },
   "file_extension": ".py",
   "mimetype": "text/x-python",
   "name": "python",
   "nbconvert_exporter": "python",
   "pygments_lexer": "ipython3",
   "version": "3.12.0"
  }
 },
 "nbformat": 4,
 "nbformat_minor": 4
}
